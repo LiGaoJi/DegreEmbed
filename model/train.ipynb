{
 "cells": [
  {
   "cell_type": "markdown",
   "id": "909a2988",
   "metadata": {},
   "source": [
    "# Notebook for training and generating rules"
   ]
  },
  {
   "cell_type": "code",
   "execution_count": null,
   "id": "35ed9930",
   "metadata": {},
   "outputs": [],
   "source": [
    "import os\n",
    "import random\n",
    "import sys\n",
    "import time\n",
    "\n",
    "import matplotlib.pyplot as plt\n",
    "import numpy as np\n",
    "import torch\n",
    "from torch import nn\n",
    "from torch import optim\n",
    "%matplotlib inline\n",
    "\n",
    "os.environ['CUBLAS_WORKSPACE_CONFIG'] = \":16:8\"\n",
    "\n",
    "from rule_miner import RuleMiner\n",
    "from framework import RTFramework\n",
    "from framework import RTLoss\n",
    "from dataloader import RTDataLoader\n",
    "\n",
    "# Paths\n",
    "here = \".\"\n",
    "data_dir = os.path.join(here, \"../datasets/\")\n",
    "\n",
    "dataset = \"family\"\n",
    "\n",
    "dataset_dir = os.path.join(data_dir, dataset)\n",
    "facts_file = os.path.join(dataset_dir, \"facts.txt\")\n",
    "train_file = os.path.join(dataset_dir, \"train.txt\")\n",
    "valid_file = os.path.join(dataset_dir, \"valid.txt\")\n",
    "test_file = os.path.join(dataset_dir, \"test.txt\")\n",
    "entities_file = os.path.join(dataset_dir, \"entities.txt\")\n",
    "relations_file = os.path.join(dataset_dir, \"relations.txt\")\n",
    "\"\"\"Saved paths\"\"\"\n",
    "experiment_dir = os.path.join(here, \"../saved\", dataset)\n",
    "# Model checkpoint for continuing training.\n",
    "checkpoint_dir = os.path.join(experiment_dir, \"checkpoint/\")\n",
    "# Directory to save trained model.\n",
    "model_save_dir = os.path.join(experiment_dir, \"model/\")\n",
    "# Options file.\n",
    "option_file = os.path.join(experiment_dir, \"option.txt\")\n",
    "# Model prediction file.\n",
    "prediction_file = os.path.join(experiment_dir, \"prediction.txt\")\n",
    "if not os.path.exists(experiment_dir):\n",
    "    os.makedirs(checkpoint_dir)\n",
    "    os.makedirs(model_save_dir)\n",
    "\"\"\"Other configurations\"\"\"\n",
    "device = \"cuda\""
   ]
  },
  {
   "cell_type": "code",
   "execution_count": null,
   "id": "e3ca2b16",
   "metadata": {},
   "outputs": [],
   "source": [
    "\"\"\"Hypterparameters\"\"\"\n",
    "rank = 3\n",
    "num_steps = 2\n",
    "top_k = 10\n",
    "num_rnn_layers = 1\n",
    "entity_embedding_dim = 128\n",
    "query_embedding_dim = 128\n",
    "query_rnn_hidden_size = 128\n",
    "entity_rnn_hidden_size = 128\n",
    "seed = 210224\n",
    "batch_size = 128\n",
    "threshold = 1e-20\n",
    "train_epochs = 20\n",
    "num_sample_batches = 0\n",
    "lr = 0.001\n",
    "query_include_reverse = True\n",
    "\n",
    "# Specify random seed.\n",
    "random.seed(seed)\n",
    "np.random.seed(seed)\n",
    "torch.manual_seed(seed)\n",
    "torch.cuda.manual_seed(seed)"
   ]
  },
  {
   "cell_type": "code",
   "execution_count": null,
   "id": "01af88d3",
   "metadata": {},
   "outputs": [],
   "source": [
    "dataloader = RTDataLoader(\n",
    "    relations_file, entities_file,\n",
    "    facts_file, train_file,\n",
    "    valid_file, test_file,\n",
    "    query_include_reverse\n",
    ")\n",
    "dataloader.id2rel[dataloader.num_operators] = \"self\"\n",
    "dataloader.rel2id[\"self\"] = dataloader.num_operators"
   ]
  },
  {
   "cell_type": "markdown",
   "id": "c5429f6a",
   "metadata": {},
   "source": [
    "## Train"
   ]
  },
  {
   "cell_type": "code",
   "execution_count": null,
   "id": "c0f583e2",
   "metadata": {
    "scrolled": true
   },
   "outputs": [],
   "source": [
    "# Define model and training framework.\n",
    "miner = RuleMiner(\n",
    "    rank,\n",
    "    num_steps,\n",
    "    dataloader.num_entities,\n",
    "    dataloader.num_operators,\n",
    "    dataloader.entity_degrees,\n",
    "    query_include_reverse,\n",
    "    entity_embedding_dim,\n",
    "    query_embedding_dim,\n",
    "    num_rnn_layers,\n",
    "    query_rnn_hidden_size,\n",
    "    entity_rnn_hidden_size\n",
    ").to(device)\n",
    "\n",
    "optimizer = optim.Adam(miner.parameters(), lr=lr)\n",
    "scheduler = None\n",
    "loss_fn = RTLoss(threshold).to(device)\n",
    "framework = RTFramework(\n",
    "    miner, optimizer, dataloader,\n",
    "    loss_fn, device, None, checkpoint_dir\n",
    ")"
   ]
  },
  {
   "cell_type": "code",
   "execution_count": null,
   "id": "56462a81",
   "metadata": {
    "scrolled": true
   },
   "outputs": [],
   "source": [
    "framework.train(top_k, batch_size, 0, train_epochs)"
   ]
  },
  {
   "cell_type": "markdown",
   "id": "22ad9f01",
   "metadata": {},
   "source": [
    "## Evaluation"
   ]
  },
  {
   "cell_type": "code",
   "execution_count": null,
   "id": "f61e5618",
   "metadata": {
    "scrolled": true
   },
   "outputs": [],
   "source": [
    "ckpt_file = os.path.join(checkpoint_dir, \"checkpoint.pth.tar\")\n",
    "checkpoint = torch.load(ckpt_file)\n",
    "miner.load_state_dict(checkpoint['model'])\n",
    "framework.eval(\"test\", batch_size, top_k)"
   ]
  },
  {
   "cell_type": "markdown",
   "id": "1d4df825",
   "metadata": {},
   "source": [
    "## Generate rules"
   ]
  },
  {
   "cell_type": "code",
   "execution_count": null,
   "id": "26ca4da9",
   "metadata": {},
   "outputs": [],
   "source": [
    "for qq, hh, tt, trips in dataloader.one_epoch(\"test\", 10, shuffle=True):\n",
    "    break\n",
    "qq = torch.from_numpy(qq).to(device)\n",
    "hh = torch.from_numpy(hh).to(device)\n",
    "tt = torch.from_numpy(tt).to(device)\n",
    "logits = miner(qq, hh, trips)\n",
    "print([dataloader.id2rel[rel.item()] for rel in qq])"
   ]
  },
  {
   "cell_type": "code",
   "execution_count": null,
   "id": "7e1eef3b",
   "metadata": {},
   "outputs": [],
   "source": [
    "relation = 6\n",
    "print(miner.query_attn_ops_list[0][:, :, relation, -1].size())\n",
    "print(miner.query_attn_ops_list[0][:, :, relation, -1])\n",
    "print(dataloader.id2rel)"
   ]
  },
  {
   "cell_type": "code",
   "execution_count": null,
   "id": "830ad183",
   "metadata": {},
   "outputs": [],
   "source": [
    "import itertools\n",
    "\n",
    "attn_combs = [list(range(dataloader.num_operators+1)) for _ in range(num_steps)]\n",
    "attn_combs = itertools.product(*attn_combs)\n",
    "path_rank = []\n",
    "for comb in attn_combs:\n",
    "    cur_path = [[], 0.]\n",
    "    step2rel = list(zip(range(len(comb)), comb))\n",
    "    for r in range(rank):\n",
    "        attention_operators = miner.query_attn_ops_list[r][:, :, relation, -1]\n",
    "        tmp_score = 1.\n",
    "        for step, rel in step2rel:\n",
    "            if r == 0:\n",
    "                cur_path[0].append(dataloader.id2rel[rel])\n",
    "            tmp_score *= attention_operators[step, rel].item()\n",
    "        cur_path[1] += tmp_score\n",
    "    path_rank.append(cur_path)\n",
    "path_rank.sort(key=lambda x: x[1], reverse=True)\n",
    "for item in path_rank:\n",
    "    item[1] /= path_rank[0][1]"
   ]
  },
  {
   "cell_type": "code",
   "execution_count": null,
   "id": "99718c24",
   "metadata": {},
   "outputs": [],
   "source": [
    "path_rank[:10]"
   ]
  },
  {
   "cell_type": "code",
   "execution_count": null,
   "id": "d6a00db7",
   "metadata": {},
   "outputs": [],
   "source": []
  }
 ],
 "metadata": {
  "interpreter": {
   "hash": "6d3fc4a18242776d773fa4c68ccdfd6100512bee141f96bd1429afa49ad52813"
  },
  "kernelspec": {
   "display_name": "Python 3",
   "language": "python",
   "name": "python3"
  },
  "language_info": {
   "codemirror_mode": {
    "name": "ipython",
    "version": 3
   },
   "file_extension": ".py",
   "mimetype": "text/x-python",
   "name": "python",
   "nbconvert_exporter": "python",
   "pygments_lexer": "ipython3",
   "version": "3.8.10"
  },
  "toc": {
   "base_numbering": 1,
   "nav_menu": {},
   "number_sections": true,
   "sideBar": true,
   "skip_h1_title": false,
   "title_cell": "Table of Contents",
   "title_sidebar": "Contents",
   "toc_cell": false,
   "toc_position": {},
   "toc_section_display": true,
   "toc_window_display": false
  }
 },
 "nbformat": 4,
 "nbformat_minor": 5
}
